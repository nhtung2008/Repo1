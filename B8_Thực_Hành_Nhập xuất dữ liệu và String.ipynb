{
 "cells": [
  {
   "cell_type": "code",
   "execution_count": null,
   "id": "c4500382",
   "metadata": {},
   "outputs": [],
   "source": [
    "# cắt string theo index\n",
    "# cú pháp : <tên biến > [start:end:step]\n",
    "text = \"Tôi thích đi du lịch\"\n",
    "print(text[0:3])\n",
    "print(text[0:10:2])\n",
    "print(text[0:len(text):3])\n",
    "print(text[: : 2]) #start default là 0 , end default là len(text) ,step có thể đi từ giá trị âm\n",
    "print(text[: : -1])"
   ]
  },
  {
   "cell_type": "code",
   "execution_count": null,
   "id": "493419fb",
   "metadata": {},
   "outputs": [],
   "source": [
    "# ghep chuỗi và lặp chuỗi \n"
   ]
  },
  {
   "cell_type": "code",
   "execution_count": null,
   "id": "ce8e459a",
   "metadata": {},
   "outputs": [],
   "source": [
    "# count\n"
   ]
  },
  {
   "cell_type": "markdown",
   "id": "b6a2b340",
   "metadata": {},
   "source": [
    "#### thực hành xử lý và in ra các thông tin tương ứng trong chuỗi "
   ]
  },
  {
   "cell_type": "code",
   "execution_count": null,
   "id": "b1467f87",
   "metadata": {},
   "outputs": [],
   "source": [
    "content = \"Lớp học python căn bản buổi 8\"\n",
    "# in ra 2 chữ :lớp học\n",
    "\n",
    "# in ra 2 chữ: python\n",
    "\n",
    "# in ra 2 chữ: căn bản\n",
    "\n",
    "# in ra chữ : buổi 8"
   ]
  },
  {
   "cell_type": "markdown",
   "id": "ac31fbb3",
   "metadata": {},
   "source": [
    "# Bài Tập thực hành"
   ]
  },
  {
   "cell_type": "markdown",
   "id": "4ec0a0d3",
   "metadata": {},
   "source": [
    "## Bài Tập 1"
   ]
  },
  {
   "cell_type": "markdown",
   "id": "ca31248e",
   "metadata": {},
   "source": [
    "Giả sử một chiếc ô tô có vận tốc ban đầu v0, gia tốc a và thời gian t.</p>\n",
    "Viết chương trình python để tìm vận tốc cuối cùng của ô tô và in kết quả ra màn hình.</p>\n",
    "Sử dụng lệnh ép kiểu input() để nhập các giá trị tương ứng cho v0, a và t.</p>\n",
    "Dùng công thức v = v0 + a.t để tính vận tốc cuối cùng"
   ]
  },
  {
   "cell_type": "code",
   "execution_count": null,
   "id": "aa8f4dde",
   "metadata": {},
   "outputs": [],
   "source": [
    "v0=float(input('Vận tốc v0: '))\n",
    "a=float(input('Gia tốc a: '))\n",
    "t=float(input('Thời gian t: '))\n",
    "print('Vận tốc ô tô tại thời điểm ',t,'là: ',v0+a*t)"
   ]
  },
  {
   "cell_type": "markdown",
   "id": "8b02bcd4",
   "metadata": {},
   "source": [
    "# Bài tập 2"
   ]
  },
  {
   "cell_type": "markdown",
   "id": "ab6b37b6",
   "metadata": {},
   "source": [
    "Viết chương trình để nhập điểm kiểm tra, điểm thi giữa kỳ, điểm thi cuối kỳ, sau đó tính tổng điểm và in kết quả ra màn hình"
   ]
  },
  {
   "cell_type": "code",
   "execution_count": null,
   "id": "095535a9",
   "metadata": {},
   "outputs": [],
   "source": [
    "d1=float(input('Điểm kiểm tra: '))\n",
    "d2=float(input('Điểm thi giữa kỳ: '))\n",
    "d3=float(input('Điểm thi cuối kỳ: '))\n",
    "td=d1+d2+d3 #Tổng điểm\n",
    "print('Tổng điểm: ',td)\n",
    "#print(f'Tổng điểm: {td}')"
   ]
  },
  {
   "cell_type": "markdown",
   "id": "076b8074",
   "metadata": {},
   "source": [
    "## Bài Tập 3"
   ]
  },
  {
   "cell_type": "markdown",
   "id": "c0009d80",
   "metadata": {},
   "source": [
    "Viết chương chình nhập vào vận tốc và thời gian của xe chạy của xe taxi </p>\n",
    "yêu cầu 1 :tính quãng đường xe chạy được bao nhiêu km.</p>\n",
    "yêu cầu 2 : đổi km về m </p>\n",
    "yêu cầu 3 : cho biết cứ mỗi 1 km thì được tính với giá cước là 23000 đồng ,hãy tính tổng số tiền khách phải trả."
   ]
  },
  {
   "cell_type": "code",
   "execution_count": null,
   "id": "57d34771",
   "metadata": {},
   "outputs": [],
   "source": [
    "vt=float(input('Vận tốc chạy xe (km/h): '))\n",
    "tg=float(input('Thời gian chạy xe (h): '))\n",
    "qd=vt*tg\n",
    "cuoc=qd*23000\n",
    "print('Quãng đường: ',qd,' km','; ',qd*1000,' m')\n",
    "#print('Tiền cước: ',cuoc,' đồng')\n",
    "print('Tiền cước:',str(cuoc))"
   ]
  },
  {
   "cell_type": "markdown",
   "id": "14e3f09c",
   "metadata": {},
   "source": [
    "## Bài Tập 4"
   ]
  },
  {
   "cell_type": "markdown",
   "id": "07a5d8a0",
   "metadata": {},
   "source": [
    "# Nhập vào một string và một số x ,hãy xóa x ký tự đầu tiên của string </p>\n",
    "ví dụ : string = \"hello python\" ,x = 3 </p>\n",
    "    output: \"lo python\""
   ]
  },
  {
   "cell_type": "code",
   "execution_count": null,
   "id": "b1465df0",
   "metadata": {},
   "outputs": [],
   "source": [
    "a=str(input('Nhập vào chuỗi: '))\n",
    "x=int(input('Số ký tự đầu tiên của chuỗi cần xoá: '))\n",
    "print(a[x:])"
   ]
  },
  {
   "cell_type": "markdown",
   "id": "1cd79c05",
   "metadata": {},
   "source": [
    "## Bài Tập 5"
   ]
  },
  {
   "cell_type": "markdown",
   "id": "d0956054",
   "metadata": {},
   "source": [
    "Nhập vào một string ,hãy kiểm tra đây có phải là một string đối xứng không</p>\n",
    "Lưu ý : chuối đối xứng là chuối có thứ tự giống nhau khi đọc từ trái sáng phải hoặc ngược lại</p>\n",
    "vd : abba , abcddcba"
   ]
  },
  {
   "cell_type": "code",
   "execution_count": null,
   "id": "43d5c2eb",
   "metadata": {},
   "outputs": [],
   "source": [
    "s=str(input('Nhập vào chuỗi cần kiểm tra: '))\n",
    "if s==s[::-1]:\n",
    "    print('Đây là chuỗi đối xứng')\n",
    "else:\n",
    "    print('Đây ko phải là chuỗi đối xứng')     "
   ]
  },
  {
   "cell_type": "markdown",
   "id": "2d88272f",
   "metadata": {},
   "source": [
    "## Bài Tập 6 "
   ]
  },
  {
   "cell_type": "markdown",
   "id": "ba2c57ba",
   "metadata": {},
   "source": [
    "Nhập vào một chuỗi string gồm 5 chữ và thực hiện các thao tác :</p>\n",
    "    in ra đổi 2 chữ đầu tiên</p>\n",
    "    in ra chuỗi đó đều in thường</p>\n",
    "    in ra chuỗi đó đều in hoa</p>\n",
    "    in cắt chuỗi đó thành nhiều chuỗi nhỏ</p>\n",
    "    in cắt đó thành những từ có nghĩa</p>\n",
    "    "
   ]
  },
  {
   "cell_type": "code",
   "execution_count": 9,
   "id": "a86cc73b",
   "metadata": {},
   "outputs": [
    {
     "name": "stdout",
     "output_type": "stream",
     "text": [
      "Nhập chuỗi gồm có 5 chữ: Tên tôi là John Wich\n",
      "Đổi chữ đầu tiên thành: Tớ \n",
      "Đổi chữ thứ hai thành: tên\n",
      "tớ  tên là john wich\n",
      "TỚ  TÊN LÀ JOHN WICH\n",
      "['Tớ', 'tên', 'là', 'John', 'Wich']\n"
     ]
    }
   ],
   "source": [
    "s=str(input('Nhập chuỗi gồm có 5 chữ: '))\n",
    "ss=s.split()\n",
    "s1=str(input('Đổi chữ đầu tiên thành: '))\n",
    "s2=str(input('Đổi chữ thứ hai thành: '))\n",
    "s=s1+' '+s2+' '+ss[2]+' '+ss[3]+' '+ss[4]\n",
    "# In ra chuỗi mới chữ in thường\n",
    "print(s.lower())\n",
    "# In ra chuỗi mới đều in hoa\n",
    "print(s.upper())\n",
    "# In cắt chuỗi đó thành nhiều chuỗi nhỏ\n",
    "print(s.split())\n",
    "# In cắt đó thành những từ có nghĩa?\n"
   ]
  },
  {
   "cell_type": "markdown",
   "id": "a562eb4b",
   "metadata": {},
   "source": [
    "## Bài Tập 7"
   ]
  },
  {
   "cell_type": "markdown",
   "id": "fe077b04",
   "metadata": {},
   "source": [
    "Nhập vào 2 chuỗi , chuỗi 1 là Họ và tên đệm, chuỗi 2 là tên của mình </p>\n",
    "Yêu cầu : nối 2 chuỗi lại hoàn chỉnh </p>\n",
    "    vd : Họ tên đêm : Nguyễn Văn </p>\n",
    "        Tên : A</p>\n",
    "     output: Nguyễn Văn A"
   ]
  },
  {
   "cell_type": "code",
   "execution_count": 10,
   "id": "c7787a7c",
   "metadata": {},
   "outputs": [
    {
     "name": "stdout",
     "output_type": "stream",
     "text": [
      "Họ và tên đệm: Nguyễn HOàng\n",
      "Tên: Tùng\n",
      "Nguyễn HOàng Tùng\n"
     ]
    }
   ],
   "source": [
    "s1=str(input('Họ và tên đệm: '))\n",
    "s2=str(input('Tên: '))\n",
    "print(s1+' '+s2)"
   ]
  },
  {
   "cell_type": "code",
   "execution_count": null,
   "id": "6082f04a",
   "metadata": {},
   "outputs": [],
   "source": []
  }
 ],
 "metadata": {
  "kernelspec": {
   "display_name": "Python 3 (ipykernel)",
   "language": "python",
   "name": "python3"
  },
  "language_info": {
   "codemirror_mode": {
    "name": "ipython",
    "version": 3
   },
   "file_extension": ".py",
   "mimetype": "text/x-python",
   "name": "python",
   "nbconvert_exporter": "python",
   "pygments_lexer": "ipython3",
   "version": "3.9.13"
  }
 },
 "nbformat": 4,
 "nbformat_minor": 5
}
